{
  "nbformat": 4,
  "nbformat_minor": 0,
  "metadata": {
    "colab": {
      "name": "21100049_kNN.ipynb",
      "provenance": [],
      "collapsed_sections": []
    },
    "kernelspec": {
      "display_name": "Python 3",
      "name": "python3"
    }
  },
  "cells": [
    {
      "cell_type": "code",
      "metadata": {
        "id": "omtuBU3cpqdM",
        "outputId": "d4aba778-e08f-43f8-b45b-5a3dcaf059a1",
        "colab": {
          "resources": {
            "http://localhost:8080/nbextensions/google.colab/files.js": {
              "data": "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",
              "ok": true,
              "headers": [
                [
                  "content-type",
                  "application/javascript"
                ]
              ],
              "status": 200,
              "status_text": ""
            }
          },
          "base_uri": "https://localhost:8080/",
          "height": 127
        }
      },
      "source": [
        "from google.colab import files\n",
        "testdata = files.upload()\n",
        "traindata = files.upload()"
      ],
      "execution_count": 2,
      "outputs": [
        {
          "output_type": "display_data",
          "data": {
            "text/html": [
              "\n",
              "     <input type=\"file\" id=\"files-08b1ad15-c2f3-4128-90cd-859c5fa4f359\" name=\"files[]\" multiple disabled\n",
              "        style=\"border:none\" />\n",
              "     <output id=\"result-08b1ad15-c2f3-4128-90cd-859c5fa4f359\">\n",
              "      Upload widget is only available when the cell has been executed in the\n",
              "      current browser session. Please rerun this cell to enable.\n",
              "      </output>\n",
              "      <script src=\"/nbextensions/google.colab/files.js\"></script> "
            ],
            "text/plain": [
              "<IPython.core.display.HTML object>"
            ]
          },
          "metadata": {
            "tags": []
          }
        },
        {
          "output_type": "stream",
          "text": [
            "Saving test.csv to test.csv\n"
          ],
          "name": "stdout"
        },
        {
          "output_type": "display_data",
          "data": {
            "text/html": [
              "\n",
              "     <input type=\"file\" id=\"files-faff8282-5127-434e-925e-631753441799\" name=\"files[]\" multiple disabled\n",
              "        style=\"border:none\" />\n",
              "     <output id=\"result-faff8282-5127-434e-925e-631753441799\">\n",
              "      Upload widget is only available when the cell has been executed in the\n",
              "      current browser session. Please rerun this cell to enable.\n",
              "      </output>\n",
              "      <script src=\"/nbextensions/google.colab/files.js\"></script> "
            ],
            "text/plain": [
              "<IPython.core.display.HTML object>"
            ]
          },
          "metadata": {
            "tags": []
          }
        },
        {
          "output_type": "stream",
          "text": [
            "Saving train.csv to train.csv\n"
          ],
          "name": "stdout"
        }
      ]
    },
    {
      "cell_type": "code",
      "metadata": {
        "id": "pXCqE4WWqFOX"
      },
      "source": [
        "import pandas as pd\n",
        "import numpy as np\n",
        "import re\n",
        "import string"
      ],
      "execution_count": 3,
      "outputs": []
    },
    {
      "cell_type": "code",
      "metadata": {
        "id": "_ofV7ko3qSMo",
        "outputId": "ddb06f5b-e428-4c65-8075-7090faa766c0",
        "colab": {
          "resources": {
            "http://localhost:8080/nbextensions/google.colab/files.js": {
              "data": "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",
              "ok": true,
              "headers": [
                [
                  "content-type",
                  "application/javascript"
                ]
              ],
              "status": 200,
              "status_text": ""
            }
          },
          "base_uri": "https://localhost:8080/",
          "height": 72
        }
      },
      "source": [
        "\n",
        "df_train = pd.read_csv('train.csv') \n",
        "df_test = pd.read_csv('test.csv')\n",
        "stopwords = files.upload()\n",
        "# stopwords = pd.read_csv('stop_words.txt')\n",
        "data = stopwords['stop_words.txt'].decode(\"utf-8\").split(\"\\r\\n\")\n",
        "data_1 = pd.read_csv('stop_words.txt', sep=' ', header=None)\n",
        "stoppers = data_1.loc[:,0].values\n",
        "stops = []\n",
        "for i in range(len(data)):\n",
        "  data[i] = data[i].split(\",\")\n",
        "  stops.append(data)\n",
        "\n"
      ],
      "execution_count": 4,
      "outputs": [
        {
          "output_type": "display_data",
          "data": {
            "text/html": [
              "\n",
              "     <input type=\"file\" id=\"files-a66ab6bf-5901-4ee6-a998-5cae84439038\" name=\"files[]\" multiple disabled\n",
              "        style=\"border:none\" />\n",
              "     <output id=\"result-a66ab6bf-5901-4ee6-a998-5cae84439038\">\n",
              "      Upload widget is only available when the cell has been executed in the\n",
              "      current browser session. Please rerun this cell to enable.\n",
              "      </output>\n",
              "      <script src=\"/nbextensions/google.colab/files.js\"></script> "
            ],
            "text/plain": [
              "<IPython.core.display.HTML object>"
            ]
          },
          "metadata": {
            "tags": []
          }
        },
        {
          "output_type": "stream",
          "text": [
            "Saving stop_words.txt to stop_words.txt\n"
          ],
          "name": "stdout"
        }
      ]
    },
    {
      "cell_type": "code",
      "metadata": {
        "id": "BNoomUkizgLP"
      },
      "source": [
        ""
      ],
      "execution_count": null,
      "outputs": []
    },
    {
      "cell_type": "markdown",
      "metadata": {
        "id": "qLpdEzYfu0Ur"
      },
      "source": [
        "#**Data Pre-processing** "
      ]
    },
    {
      "cell_type": "code",
      "metadata": {
        "id": "WvGOae5IrOr-"
      },
      "source": [
        "df_train = df_train.apply(lambda x: x.astype(str).str.lower()) #lambda functions to convert whole dataframe into lowercase\n",
        "df_test = df_test.apply(lambda x: x.astype(str).str.lower()) #lambda functions to convert whole dataframe into lowercase"
      ],
      "execution_count": 5,
      "outputs": []
    },
    {
      "cell_type": "markdown",
      "metadata": {
        "id": "XhY65bKGavf_"
      },
      "source": [
        "# **Training Data Processing**\n"
      ]
    },
    {
      "cell_type": "code",
      "metadata": {
        "id": "50vYu6_DrZCX"
      },
      "source": [
        "\n",
        "for i,tweet in enumerate(df_train['Tweet']):\n",
        "  punc = string.punctuation # punctuation string\n",
        "  words = tweet.split() # tokenizing the tweet  \n",
        "  # words = [token for token in words if not token in list(stops)]\n",
        "  filtered_word_list = words #make a copy of the word_list\n",
        "  for word in words: # iterate over word_list\n",
        "    if word in stops: \n",
        "      filtered_word_list.remove(word)\n",
        "  mytweet = filtered_word_list\n",
        "  mytweet = (\" \").join(words) # re-joining the string\n",
        "  mytweet = re.sub(r\"http\\S+\", \"\", mytweet) # removing URLs\n",
        "  mytweet = mytweet.translate(str.maketrans('', '', string.punctuation)) #removing punctuations\n",
        "  df_train['Tweet'][i] = mytweet\n",
        "df_train['Tweet'] = df_train['Tweet'].apply(lambda x: ' '.join([word for word in x.split() if word not in (stoppers)]))"
      ],
      "execution_count": 6,
      "outputs": []
    },
    {
      "cell_type": "code",
      "metadata": {
        "id": "1w_uQlLdvOWZ"
      },
      "source": [
        "from string import digits\n",
        "for i,tweet in enumerate(df_train['Tweet']): \n",
        "  remove_digits = str.maketrans('','', digits) # removing numeric characters\n",
        "  df_train['Tweet'][i] = tweet.translate(remove_digits)"
      ],
      "execution_count": 7,
      "outputs": []
    },
    {
      "cell_type": "markdown",
      "metadata": {
        "id": "4SURbrTza7RH"
      },
      "source": [
        "# **Test Data Processing**"
      ]
    },
    {
      "cell_type": "code",
      "metadata": {
        "id": "VMzk8-R0OkhU"
      },
      "source": [
        "for i,tweet in enumerate(df_test['Tweet']):\n",
        "  punc = string.punctuation # punctuation string\n",
        "  words = tweet.split() # tokenizing the tweet  \n",
        "  filtered_word_list = words #make a copy of the word_list\n",
        "  for word in words: # iterate over word_list\n",
        "    if word in stops: \n",
        "      filtered_word_list.remove(word)\n",
        "  mytweet = filtered_word_list\n",
        "  mytweet = (\" \").join(words) # re-joining the string\n",
        "  mytweet = re.sub(r\"http\\S+\", \"\", mytweet) # removing URLs\n",
        "  mytweet = mytweet.translate(str.maketrans('', '', string.punctuation)) #removing punctuations\n",
        "  df_test['Tweet'][i] = mytweet\n",
        "df_test['Tweet'] = df_test['Tweet'].apply(lambda x: ' '.join([word for word in x.split() if word not in (stoppers)]))"
      ],
      "execution_count": 8,
      "outputs": []
    },
    {
      "cell_type": "code",
      "metadata": {
        "id": "_GW3OuAIbFVR"
      },
      "source": [
        "from string import digits\n",
        "for i,tweet in enumerate(df_test['Tweet']): \n",
        "  remove_digits = str.maketrans('','', digits) # removing numeric characters\n",
        "  df_test['Tweet'][i] = tweet.translate(remove_digits)"
      ],
      "execution_count": 9,
      "outputs": []
    },
    {
      "cell_type": "markdown",
      "metadata": {
        "id": "pEya9W1zbUYW"
      },
      "source": [
        "# **Part 1**"
      ]
    },
    {
      "cell_type": "code",
      "metadata": {
        "id": "GGZG1IfTbWty"
      },
      "source": [
        "dictionary_train = {} # dictionary of unique words for train\n",
        "i = 0\n",
        "for tweet in df_train['Tweet']:\n",
        "  tokens = tweet.split()\n",
        "  for token in tokens:\n",
        "    if not token in dictionary_train:\n",
        "     dictionary_train[token] = i\n",
        "     i += 1\n",
        "\n",
        "\n",
        "vector_train = [] # vectors of each bag of words of a tweet for train \n",
        "for tweet in df_train['Tweet']:\n",
        "  tokens = tweet.split()\n",
        "  boW_train = [0]*len(dictionary_train)\n",
        "  for token in tokens:\n",
        "    if token in dictionary_train:\n",
        "      boW_train[dictionary_train[token]] += 1\n",
        "  vector_train.append(boW_train)\n"
      ],
      "execution_count": 10,
      "outputs": []
    },
    {
      "cell_type": "code",
      "metadata": {
        "id": "HOIlkBCRs41D"
      },
      "source": [
        "\n",
        "vector_test = [] # vectors of each bag of words of a tweet for test \n",
        "for tweet in df_test['Tweet']:\n",
        "  tokens = tweet.split()\n",
        "  boW_test = [0]*len(dictionary_train)\n",
        "  for token in tokens:\n",
        "    if token in dictionary_train:\n",
        "      boW_test[dictionary_train[token]] += 1\n",
        "  vector_test.append(boW_test)"
      ],
      "execution_count": 11,
      "outputs": []
    },
    {
      "cell_type": "code",
      "metadata": {
        "id": "C1nNq_tm5XkV"
      },
      "source": [
        ""
      ],
      "execution_count": 11,
      "outputs": []
    },
    {
      "cell_type": "code",
      "metadata": {
        "id": "aaCZsrZR64D5"
      },
      "source": [
        "import scipy\n",
        "from scipy import spatial\n",
        "Y = scipy.spatial.distance.cdist(vector_train, vector_test, 'euclidean') # euclidean distance for train and test"
      ],
      "execution_count": 13,
      "outputs": []
    },
    {
      "cell_type": "code",
      "metadata": {
        "id": "SaROeOVy0osP",
        "outputId": "34c84348-0fbf-4d9f-bd69-46be383bd7f8",
        "colab": {
          "base_uri": "https://localhost:8080/",
          "height": 34
        }
      },
      "source": [
        "print(Y.T.shape[0])\n",
        "Y_transpose = Y.T # tranposing to extract K minimum easily"
      ],
      "execution_count": 14,
      "outputs": [
        {
          "output_type": "stream",
          "text": [
            "2921\n"
          ],
          "name": "stdout"
        }
      ]
    },
    {
      "cell_type": "code",
      "metadata": {
        "id": "B9YwiU-BWdY6",
        "outputId": "3dbc994b-6907-460a-8315-577e50b179db",
        "colab": {
          "base_uri": "https://localhost:8080/",
          "height": 1000
        }
      },
      "source": [
        "import matplotlib.pyplot as plt\n",
        "arr = [1,3,5,7,10] # K VALUES\n",
        "\n",
        "accuracies = [] # ARRAY FOR ACCURACIES\n",
        "values_of_k = [] # ARRAY FOR K VALUES\n",
        "precision_array = [] # ARRAY FOR PRECISIONS FOR K VALUES\n",
        "recall_array = [] # ARRAY FOR PRECISIONS FOR K VALUES\n",
        "f1_score_array = [] # ARRAY FOR F1_SCORE FOR K VALUES\n",
        "\n",
        "for k in arr: # FOR LOOP FOR DIFFERENT K VALUES\n",
        "  smallest_indexes = []\n",
        "  smallest_values = []\n",
        "  precision = 0\n",
        "  recall = 0\n",
        "  f1_score = 0\n",
        "  classification_matrix = np.zeros((3,3)) # CLASSIFICATION MATRIX INITIALISED BY ZEROS\n",
        "  precision_negative = 0\n",
        "  precision_positive = 0\n",
        "  precision_neutral = 0\n",
        "  recall_negative = 0\n",
        "  recall_positive = 0\n",
        "  recall_neutral = 0\n",
        "  for i in range(Y.T.shape[0]):\n",
        "    Y_transpose[i] = np.array(Y_transpose[i])\n",
        "    index = np.argpartition(Y_transpose[i], k)\n",
        "    smallest_indexes.append(np.array(index[:k])) # K MINIMUM VALUES' INDEX EXTRACTED OF EACH TWEET AND APPENDED\n",
        "    smallest_values.append(np.array(Y_transpose[i][index[:k]]))\n",
        "\n",
        "\n",
        "  def most_frequent(List): # FUNCTION TO GIVE MOST FREQUENT SENTIMENT\n",
        "    counter = 0\n",
        "    num = List[0] \n",
        "        \n",
        "    for i in List: \n",
        "\n",
        "        curr_frequency = List.count(i) \n",
        "        if curr_frequency == counter:\n",
        "          List.remove(List[-1])\n",
        "          most_frequent(List)\n",
        "        if(curr_frequency> counter): \n",
        "            counter = curr_frequency \n",
        "            num = i\n",
        "    \n",
        "    return num \n",
        "    \n",
        "\n",
        "  acc = 0\n",
        "  sentiments = [0]*3\n",
        "  y_pred = []\n",
        "  for i in range(len(smallest_indexes)): # FINDING A MATCH, GOING THROUGH EACH TWEET\n",
        "  \n",
        "    for j in range(k):\n",
        "      list = []\n",
        "      list.append(df_train['Sentiment'][(smallest_indexes[i][j])])\n",
        "      max_string = most_frequent(list)\n",
        "  \n",
        "    if max_string == df_test['Sentiment'][i]:\n",
        "      acc += 1\n",
        "      if max_string == 'negative':\n",
        "        classification_matrix[0][0] += 1 \n",
        "      if max_string == 'positive':\n",
        "        classification_matrix[1][1] += 1 \n",
        "      if max_string == 'neutral':\n",
        "        classification_matrix[2][2] += 1 \n",
        "    if max_string == 'negative' and df_test['Sentiment'][i] == 'positive':\n",
        "      classification_matrix[0][1] += 1\n",
        "    if max_string == 'negative' and df_test['Sentiment'][i] == 'neutral':\n",
        "      classification_matrix[0][2] += 1\n",
        "    if max_string == 'positive' and df_test['Sentiment'][i] == 'negative':\n",
        "      classification_matrix[1][0] += 1\n",
        "    if max_string == 'positive' and df_test['Sentiment'][i] == 'neutral':\n",
        "      classification_matrix[1][2] += 1\n",
        "    if max_string == 'neutral' and df_test['Sentiment'][i] == 'positive':\n",
        "      classification_matrix[2][1] += 1\n",
        "    if max_string == 'neutral' and df_test['Sentiment'][i] == 'negative':\n",
        "      classification_matrix[2][0] += 1\n",
        "    \n",
        "  \n",
        "  sum_row = np.sum(classification_matrix, axis=1)\n",
        "  sum_column = np.sum(classification_matrix, axis=0)\n",
        "\n",
        "  precision_negative = classification_matrix[0][0]/sum_row[0] # CALCULATING PRECISION FOR NEGATIVE\n",
        "\n",
        "  recall_negative = classification_matrix[0][0]/sum_column[0] # CALCULATING RECALL FOR NEGATIVE\n",
        "\n",
        "  precision_positive = classification_matrix[1][1]/sum_row[1] # CALCULATING PRECISION FOR POSITIVE\n",
        "\n",
        "  recall_positive = classification_matrix[1][1]/sum_column[1] # CALCULATING RECALL FOR POSITIVE\n",
        "\n",
        "  precision_neutral = classification_matrix[2][2]/sum_row[2] # CALCULATING PRECISION FOR NEUTRAL\n",
        "\n",
        "  recall_neutral = classification_matrix[2][2]/sum_column[2] # CALCULATING RECALL FOR NEUTRAL\n",
        "\n",
        "  precision = (precision_negative + precision_positive + precision_neutral)/3\n",
        "  recall = (recall_negative + recall_positive + recall_neutral)/3 \n",
        "\n",
        "  f1_score = 2*(precision*recall)/(precision+recall)\n",
        "\n",
        "  print('----------------------- {} NN -----------------------'.format(k))\n",
        "  print('\\n')\n",
        "  print('Accuracy', round((acc/2921*100),1), '%')\n",
        "  print(classification_matrix)\n",
        "  print('Precision',round((precision),2))\n",
        "  print('Recall',round((recall),2))\n",
        "  print('F1_Score',round((f1_score),2))\n",
        "  print('\\n')\n",
        "\n",
        "  \n",
        "  accuracies.append((acc/2921))\n",
        "  print(acc/2921)\n",
        "  values_of_k.append(k)\n",
        "  precision_array.append(precision)\n",
        "  recall_array.append(recall)\n",
        "  f1_score_array.append(f1_score)\n",
        "\n"
      ],
      "execution_count": 29,
      "outputs": [
        {
          "output_type": "stream",
          "text": [
            "----------------------- 1 NN -----------------------\n",
            "\n",
            "\n",
            "Accuracy 50.8 %\n",
            "[[866.  57. 119.]\n",
            " [246. 267. 144.]\n",
            " [722. 148. 352.]]\n",
            "Precision 0.51\n",
            "Recall 0.54\n",
            "F1_Score 0.52\n",
            "\n",
            "\n",
            "0.5083875385142075\n",
            "----------------------- 3 NN -----------------------\n",
            "\n",
            "\n",
            "Accuracy 44.9 %\n",
            "[[707.  55.  97.]\n",
            " [353. 262. 175.]\n",
            " [774. 155. 343.]]\n",
            "Precision 0.47\n",
            "Recall 0.5\n",
            "F1_Score 0.49\n",
            "\n",
            "\n",
            "0.4491612461485793\n",
            "----------------------- 5 NN -----------------------\n",
            "\n",
            "\n",
            "Accuracy 41.7 %\n",
            "[[669.  63. 135.]\n",
            " [460. 265. 195.]\n",
            " [705. 144. 285.]]\n",
            "Precision 0.44\n",
            "Recall 0.46\n",
            "F1_Score 0.45\n",
            "\n",
            "\n",
            "0.41732283464566927\n",
            "----------------------- 7 NN -----------------------\n",
            "\n",
            "\n",
            "Accuracy 40.1 %\n",
            "[[635.  60. 122.]\n",
            " [523. 260. 218.]\n",
            " [676. 152. 275.]]\n",
            "Precision 0.43\n",
            "Recall 0.45\n",
            "F1_Score 0.44\n",
            "\n",
            "\n",
            "0.40054775761725436\n",
            "----------------------- 10 NN -----------------------\n",
            "\n",
            "\n",
            "Accuracy 37.7 %\n",
            "[[566.  67. 122.]\n",
            " [574. 260. 219.]\n",
            " [694. 145. 274.]]\n",
            "Precision 0.41\n",
            "Recall 0.43\n",
            "F1_Score 0.42\n",
            "\n",
            "\n",
            "0.3765833618623759\n"
          ],
          "name": "stdout"
        }
      ]
    },
    {
      "cell_type": "code",
      "metadata": {
        "id": "H0Iysriroj4o",
        "outputId": "c550e154-cc58-47f4-a043-521b6b7c3d00",
        "colab": {
          "base_uri": "https://localhost:8080/",
          "height": 295
        }
      },
      "source": [
        "\n",
        "plt.plot(values_of_k, accuracies, 'r-',label='Accuracy') # plotting t, a separately \n",
        "plt.plot(values_of_k, precision_array, 'b-', label='Precision') # plotting t, b separately \n",
        "plt.plot(values_of_k, recall_array, 'g-', label='Recall') # plotting t, c separately \n",
        "plt.plot(values_of_k, f1_score_array, color = 'grey', label= 'F1 Score')\n",
        "plt.legend()\n",
        "plt.title('K vs Accuracy, Precision, Recall, F1 Score')\n",
        "plt.xlabel('K')\n",
        "plt.ylabel('Performance Measures')\n",
        "plt.ylim((0.35,0.6))\n",
        "plt.show()\n",
        "\n"
      ],
      "execution_count": 30,
      "outputs": [
        {
          "output_type": "display_data",
          "data": {
            "image/png": "[encoded data removed]",
            "text/plain": [
              "<Figure size 432x288 with 1 Axes>"
            ]
          },
          "metadata": {
            "tags": [],
            "needs_background": "light"
          }
        }
      ]
    },
    {
      "cell_type": "markdown",
      "metadata": {
        "id": "UMm92j0pvEKv"
      },
      "source": [
        "# **Part 2**"
      ]
    },
    {
      "cell_type": "code",
      "metadata": {
        "id": "t-NDkkAJgA2o",
        "outputId": "1c153721-5ba7-4752-ebaf-6ab56a2803e3",
        "colab": {
          "base_uri": "https://localhost:8080/",
          "height": 1000
        }
      },
      "source": [
        "arr = [1,3,5,7,10]\n",
        "accs = []\n",
        "for kk in arr:\n",
        "  vector_train = np.array(vector_train)\n",
        "  vector_test = np.array(vector_test)\n",
        "  from sklearn.model_selection import train_test_split\n",
        "\n",
        "  from sklearn.neighbors import KNeighborsClassifier\n",
        "\n",
        "  text_classifier = KNeighborsClassifier(n_neighbors=kk)\n",
        "  text_classifier.fit(vector_train, df_train['Sentiment'])\n",
        "  predictions = text_classifier.predict(vector_test)\n",
        "  from sklearn.metrics import classification_report, confusion_matrix, accuracy_score\n",
        "  print('----------------------- {} NN -----------------------'.format(kk))\n",
        "  print('\\n')\n",
        "  print(confusion_matrix(df_test['Sentiment'],predictions))\n",
        "  print(classification_report(df_test['Sentiment'],predictions))\n",
        "  print('Accuracy for {}nn'.format(kk),accuracy_score(df_test['Sentiment'], predictions))\n",
        "  accs.append(accuracy_score(df_test['Sentiment'], predictions))\n",
        "  print('\\n')"
      ],
      "execution_count": 46,
      "outputs": [
        {
          "output_type": "stream",
          "text": [
            "----------------------- 1 NN -----------------------\n",
            "\n",
            "\n",
            "[[843 761 230]\n",
            " [111 392 112]\n",
            " [ 54 165 253]]\n",
            "              precision    recall  f1-score   support\n",
            "\n",
            "    negative       0.84      0.46      0.59      1834\n",
            "     neutral       0.30      0.64      0.41       615\n",
            "    positive       0.43      0.54      0.47       472\n",
            "\n",
            "    accuracy                           0.51      2921\n",
            "   macro avg       0.52      0.54      0.49      2921\n",
            "weighted avg       0.66      0.51      0.53      2921\n",
            "\n",
            "Accuracy for 1nn 0.5094145840465594\n",
            "\n",
            "\n",
            "----------------------- 3 NN -----------------------\n",
            "\n",
            "\n",
            "[[892 724 218]\n",
            " [111 375 129]\n",
            " [ 60 119 293]]\n",
            "              precision    recall  f1-score   support\n",
            "\n",
            "    negative       0.84      0.49      0.62      1834\n",
            "     neutral       0.31      0.61      0.41       615\n",
            "    positive       0.46      0.62      0.53       472\n",
            "\n",
            "    accuracy                           0.53      2921\n",
            "   macro avg       0.53      0.57      0.52      2921\n",
            "weighted avg       0.67      0.53      0.56      2921\n",
            "\n",
            "Accuracy for 3nn 0.5340636768230058\n",
            "\n",
            "\n",
            "----------------------- 5 NN -----------------------\n",
            "\n",
            "\n",
            "[[838 802 194]\n",
            " [ 87 397 131]\n",
            " [ 53 130 289]]\n",
            "              precision    recall  f1-score   support\n",
            "\n",
            "    negative       0.86      0.46      0.60      1834\n",
            "     neutral       0.30      0.65      0.41       615\n",
            "    positive       0.47      0.61      0.53       472\n",
            "\n",
            "    accuracy                           0.52      2921\n",
            "   macro avg       0.54      0.57      0.51      2921\n",
            "weighted avg       0.68      0.52      0.55      2921\n",
            "\n",
            "Accuracy for 5nn 0.5217391304347826\n",
            "\n",
            "\n",
            "----------------------- 7 NN -----------------------\n",
            "\n",
            "\n",
            "[[756 817 261]\n",
            " [ 73 402 140]\n",
            " [ 45 138 289]]\n",
            "              precision    recall  f1-score   support\n",
            "\n",
            "    negative       0.86      0.41      0.56      1834\n",
            "     neutral       0.30      0.65      0.41       615\n",
            "    positive       0.42      0.61      0.50       472\n",
            "\n",
            "    accuracy                           0.50      2921\n",
            "   macro avg       0.53      0.56      0.49      2921\n",
            "weighted avg       0.67      0.50      0.52      2921\n",
            "\n",
            "Accuracy for 7nn 0.4953782951044163\n",
            "\n",
            "\n",
            "----------------------- 10 NN -----------------------\n",
            "\n",
            "\n",
            "[[756 809 269]\n",
            " [ 77 404 134]\n",
            " [ 45 157 270]]\n",
            "              precision    recall  f1-score   support\n",
            "\n",
            "    negative       0.86      0.41      0.56      1834\n",
            "     neutral       0.29      0.66      0.41       615\n",
            "    positive       0.40      0.57      0.47       472\n",
            "\n",
            "    accuracy                           0.49      2921\n",
            "   macro avg       0.52      0.55      0.48      2921\n",
            "weighted avg       0.67      0.49      0.51      2921\n",
            "\n",
            "Accuracy for 10nn 0.4895583704210887\n",
            "\n",
            "\n"
          ],
          "name": "stdout"
        }
      ]
    },
    {
      "cell_type": "code",
      "metadata": {
        "id": "Ak-SiafPXUIi",
        "outputId": "1605b504-4db4-4ba7-e1ed-266c34210652",
        "colab": {
          "base_uri": "https://localhost:8080/",
          "height": 295
        }
      },
      "source": [
        "#plot graph for part2\n",
        "import matplotlib.pyplot as plt\n",
        "accuracies = accs # ARRAY FOR ACCURACIES\n",
        "values_of_k = [1,3,5,7,10] # ARRAY FOR K VALUES\n",
        "precision_array = [0.52,0.54,0.54,0.526,0.516] # ARRAY FOR PRECISIONS FOR K VALUES\n",
        "recall_array = [0.55,0.57,0.57,0.556,0.546] # ARRAY FOR PRECISIONS FOR K VALUES\n",
        "f1_score_array = [0.49,0.52,0.51,0.49,0.48] # ARRAY FOR F1_SCORE FOR K VALUES\n",
        "plt.plot(values_of_k, accuracies, 'r-',label='Accuracy') # plotting t, a separately \n",
        "plt.plot(values_of_k, precision_array, 'b-', label='Precision') # plotting t, b separately \n",
        "plt.plot(values_of_k, recall_array, 'g-', label='Recall') # plotting t, c separately \n",
        "plt.plot(values_of_k, f1_score_array, color = 'grey', label= 'F1 Score')\n",
        "plt.legend()\n",
        "plt.title('K vs Accuracy, Precision, Recall, F1 Score')\n",
        "plt.xlabel('K')\n",
        "plt.ylabel('Performance Measures')\n",
        "plt.show()"
      ],
      "execution_count": 23,
      "outputs": [
        {
          "output_type": "display_data",
          "data": {
            "image/png": "[encoded data removed]",
            "text/plain": [
              "<Figure size 432x288 with 1 Axes>"
            ]
          },
          "metadata": {
            "tags": [],
            "needs_background": "light"
          }
        }
      ]
    },
    {
      "cell_type": "markdown",
      "metadata": {
        "id": "pf3vceNwHaGJ"
      },
      "source": [
        "# **PART 3 FOR PART 1**"
      ]
    },
    {
      "cell_type": "code",
      "metadata": {
        "id": "ceYBxaVgHcw2",
        "outputId": "05efbced-da26-4b22-f526-c0e7c7a91d9b",
        "colab": {
          "base_uri": "https://localhost:8080/",
          "height": 204
        }
      },
      "source": [
        "!wget 'https://s3.amazonaws.com/dl4j-distribution/GoogleNews-vectors-negative300.bin.gz'\n",
        "from gensim.models import KeyedVectors\n",
        "import numpy as np"
      ],
      "execution_count": 33,
      "outputs": [
        {
          "output_type": "stream",
          "text": [
            "--2020-10-16 16:01:27--  https://s3.amazonaws.com/dl4j-distribution/GoogleNews-vectors-negative300.bin.gz\n",
            "Resolving s3.amazonaws.com (s3.amazonaws.com)... 52.216.240.70\n",
            "Connecting to s3.amazonaws.com (s3.amazonaws.com)|52.216.240.70|:443... connected.\n",
            "HTTP request sent, awaiting response... 200 OK\n",
            "Length: 1647046227 (1.5G) [application/x-gzip]\n",
            "Saving to: ‘GoogleNews-vectors-negative300.bin.gz’\n",
            "\n",
            "GoogleNews-vectors- 100%[===================>]   1.53G  43.5MB/s    in 38s     \n",
            "\n",
            "2020-10-16 16:02:06 (41.2 MB/s) - ‘GoogleNews-vectors-negative300.bin.gz’ saved [1647046227/1647046227]\n",
            "\n"
          ],
          "name": "stdout"
        }
      ]
    },
    {
      "cell_type": "code",
      "metadata": {
        "id": "MJknGUw2U5mV",
        "outputId": "7784a4df-8bf0-44f7-a592-b95083b8da7e",
        "colab": {
          "base_uri": "https://localhost:8080/",
          "height": 71
        }
      },
      "source": [
        "word2vec = KeyedVectors.load_word2vec_format(\"GoogleNews-vectors-negative300.bin.gz\", binary=True)"
      ],
      "execution_count": 34,
      "outputs": [
        {
          "output_type": "stream",
          "text": [
            "/usr/local/lib/python3.6/dist-packages/smart_open/smart_open_lib.py:252: UserWarning: This function is deprecated, use smart_open.open instead. See the migration notes for details: https://github.com/RaRe-Technologies/smart_open/blob/master/README.rst#migrating-to-the-new-open-function\n",
            "  'See the migration notes for details: %s' % _MIGRATION_NOTES_URL\n"
          ],
          "name": "stderr"
        }
      ]
    },
    {
      "cell_type": "code",
      "metadata": {
        "id": "ntqPHyZRSKZJ"
      },
      "source": [
        "def extract_features(text):\n",
        "  words = [word for word in text.split() if word in word2vec.vocab]\n",
        "  return np.mean(word2vec[words], axis=0)"
      ],
      "execution_count": 52,
      "outputs": []
    },
    {
      "cell_type": "code",
      "metadata": {
        "id": "wTkOWQQ5UEUc"
      },
      "source": [
        "train_embeddings = []\n",
        "for tweet in df_train['Tweet']:\n",
        "  text_embedding = extract_features(tweet) # 300 DIMENSIONAL DENSE VECTOR \n",
        "  train_embeddings.append(text_embedding)\n",
        "\n",
        "test_embeddings = []\n",
        "for tweet in df_test['Tweet']:\n",
        "  text_embedding = extract_features(tweet)\n",
        "  test_embeddings.append(text_embedding)\n",
        "\n"
      ],
      "execution_count": 53,
      "outputs": []
    },
    {
      "cell_type": "code",
      "metadata": {
        "id": "bmkeHNi8ZrGD"
      },
      "source": [
        "train_embeddings = np.array(train_embeddings).T\n",
        "test_embeddings = np.array(test_embeddings).T"
      ],
      "execution_count": 39,
      "outputs": []
    },
    {
      "cell_type": "code",
      "metadata": {
        "id": "bmLH7xh-UNT3"
      },
      "source": [
        "Y_part3 = scipy.spatial.distance.cdist(train_embeddings, test_embeddings, 'euclidean')"
      ],
      "execution_count": 40,
      "outputs": []
    },
    {
      "cell_type": "code",
      "metadata": {
        "id": "P4fk7mAKae96",
        "outputId": "391bca43-720f-4157-bcd1-a2cf5c450d95",
        "colab": {
          "base_uri": "https://localhost:8080/",
          "height": 34
        }
      },
      "source": [
        "print(Y_part3.shape)"
      ],
      "execution_count": 41,
      "outputs": [
        {
          "output_type": "stream",
          "text": [
            "(11680, 2921)\n"
          ],
          "name": "stdout"
        }
      ]
    },
    {
      "cell_type": "code",
      "metadata": {
        "id": "rcdrz8MGaoi4"
      },
      "source": [
        "Y_part3_transpose = Y_part3.T"
      ],
      "execution_count": 42,
      "outputs": []
    },
    {
      "cell_type": "code",
      "metadata": {
        "id": "40NE48kZbCEw",
        "outputId": "7bb88f0e-fd75-480a-c952-d79b22475fcf",
        "colab": {
          "base_uri": "https://localhost:8080/",
          "height": 1000
        }
      },
      "source": [
        "arr = [1,3,5,7,10]\n",
        "accuracies = [] # ARRAY FOR ACCURACIES\n",
        "values_of_k = [] # ARRAY FOR K VALUES\n",
        "precision_array = [] # ARRAY FOR PRECISIONS FOR K VALUES\n",
        "recall_array = [] # ARRAY FOR PRECISIONS FOR K VALUES\n",
        "f1_score_array = [] # ARRAY FOR F1_SCORE FOR K VALUES\n",
        "\n",
        "for k in arr:\n",
        "  smallest_indexes_3 = []\n",
        "  smallest_values_3 = []\n",
        "  precision = 0\n",
        "  recall = 0\n",
        "  f1_score = 0\n",
        "  classification_matrix = np.zeros((3,3)) # CLASSIFICATION MATRIX INITIALISED BY ZEROS\n",
        "  precision_negative = 0\n",
        "  precision_positive = 0\n",
        "  precision_neutral = 0\n",
        "  recall_negative = 0\n",
        "  recall_positive = 0\n",
        "  recall_neutral = 0\n",
        "  for i in range(Y_part3.T.shape[0]):\n",
        "    Y_part3_transpose[i] = np.array(Y_part3_transpose[i])\n",
        "    index_3 = np.argpartition(Y_part3_transpose[i], k) # GETTING K MINIMUM INDEXES FOR SENTIMENTS\n",
        "    smallest_indexes_3.append(np.array(index_3[:k]))\n",
        "    smallest_values_3.append(np.array(Y_part3_transpose[i][index_3[:k]]))\n",
        "\n",
        "\n",
        "  def most_frequent(List): \n",
        "    counter = 0\n",
        "    num = List[0] \n",
        "        \n",
        "    for i in List: \n",
        "        curr_frequency = List.count(i) \n",
        "        if curr_frequency == counter: # Handling ties in the sentiment list. \n",
        "          List.remove(List[-1])\n",
        "          most_frequent(List)\n",
        "        if(curr_frequency> counter): \n",
        "            counter = curr_frequency \n",
        "            num = i \n",
        "    return num \n",
        "    \n",
        "\n",
        "  acc_3 = 0\n",
        "  sentiments = [0]*3\n",
        "  y_pred = []\n",
        "  for i in range(len(smallest_indexes_3)):\n",
        "  \n",
        "    for j in range(k):\n",
        "      list = []\n",
        "      list.append(df_train['Sentiment'][(smallest_indexes_3[i][j])])\n",
        "      max_string = most_frequent(list) # MOST FREQUENT STRING\n",
        "\n",
        "    if max_string == df_test['Sentiment'][i]:\n",
        "      acc_3 += 1\n",
        "      if max_string == 'negative':\n",
        "        classification_matrix[0][0] += 1 \n",
        "      if max_string == 'positive':\n",
        "        classification_matrix[1][1] += 1 \n",
        "      if max_string == 'neutral':\n",
        "        classification_matrix[2][2] += 1 \n",
        "    if max_string == 'negative' and df_test['Sentiment'][i] == 'positive': # MAKING OF CLASSIFICATION MATRIX\n",
        "      classification_matrix[0][1] += 1\n",
        "    if max_string == 'negative' and df_test['Sentiment'][i] == 'neutral':\n",
        "      classification_matrix[0][2] += 1\n",
        "    if max_string == 'positive' and df_test['Sentiment'][i] == 'negative':\n",
        "      classification_matrix[1][0] += 1\n",
        "    if max_string == 'positive' and df_test['Sentiment'][i] == 'neutral':\n",
        "      classification_matrix[1][2] += 1\n",
        "    if max_string == 'neutral' and df_test['Sentiment'][i] == 'positive':\n",
        "      classification_matrix[2][1] += 1\n",
        "    if max_string == 'neutral' and df_test['Sentiment'][i] == 'negative':\n",
        "      classification_matrix[2][0] += 1\n",
        "  sum_row = np.sum(classification_matrix, axis=1)\n",
        "  sum_column = np.sum(classification_matrix, axis=0)\n",
        "\n",
        "  precision_negative = classification_matrix[0][0]/sum_row[0] # CALCULATING PRECISION FOR NEGATIVE\n",
        "\n",
        "  recall_negative = classification_matrix[0][0]/sum_column[0] # CALCULATING RECALL FOR NEGATIVE\n",
        "\n",
        "  precision_positive = classification_matrix[1][1]/sum_row[1] # CALCULATING PRECISION FOR POSITIVE\n",
        "\n",
        "  recall_positive = classification_matrix[1][1]/sum_column[1] # CALCULATING RECALL FOR POSITIVE\n",
        "\n",
        "  precision_neutral = classification_matrix[2][2]/sum_row[2] # CALCULATING PRECISION FOR NEUTRAL\n",
        "\n",
        "  recall_neutral = classification_matrix[2][2]/sum_column[2] # CALCULATING RECALL FOR NEUTRAL\n",
        "\n",
        "  precision = (precision_negative + precision_positive + precision_neutral)/3\n",
        "  recall = (recall_negative + recall_positive + recall_neutral)/3 \n",
        "\n",
        "  f1_score = 2*(precision*recall)/(precision+recall)\n",
        "\n",
        "  print('----------------------- {} NN -----------------------'.format(k))\n",
        "  print('\\n')\n",
        "  print('Accuracy', round((acc_3/2921*100),1), '%')\n",
        "  print(classification_matrix)\n",
        "  print('Precision',round((precision),2))\n",
        "  print('Recall',round((recall),2))\n",
        "  print('F1_Score',round((f1_score),2))\n",
        "  print('\\n')\n",
        "\n",
        "  \n",
        "  accuracies.append((acc_3/2921))\n",
        "  values_of_k.append(k)\n",
        "  precision_array.append(precision)\n",
        "  recall_array.append(recall)\n",
        "  f1_score_array.append(f1_score)\n",
        "\n"
      ],
      "execution_count": 45,
      "outputs": [
        {
          "output_type": "stream",
          "text": [
            "----------------------- 1 NN -----------------------\n",
            "\n",
            "\n",
            "Accuracy 70.9 %\n",
            "[[1585.  152.  284.]\n",
            " [  99.  248.   93.]\n",
            " [ 150.   72.  238.]]\n",
            "Precision 0.62\n",
            "Recall 0.59\n",
            "F1_Score 0.61\n",
            "\n",
            "\n",
            "----------------------- 3 NN -----------------------\n",
            "\n",
            "\n",
            "Accuracy 67.1 %\n",
            "[[1563.  175.  352.]\n",
            " [ 116.  228.   95.]\n",
            " [ 155.   69.  168.]]\n",
            "Precision 0.57\n",
            "Recall 0.54\n",
            "F1_Score 0.55\n",
            "\n",
            "\n",
            "----------------------- 5 NN -----------------------\n",
            "\n",
            "\n",
            "Accuracy 66.8 %\n",
            "[[1573.  190.  353.]\n",
            " [ 115.  206.   91.]\n",
            " [ 146.   76.  171.]]\n",
            "Precision 0.56\n",
            "Recall 0.52\n",
            "F1_Score 0.54\n",
            "\n",
            "\n",
            "----------------------- 7 NN -----------------------\n",
            "\n",
            "\n",
            "Accuracy 64.5 %\n",
            "[[1521.  204.  375.]\n",
            " [ 141.  219.   97.]\n",
            " [ 172.   49.  143.]]\n",
            "Precision 0.53\n",
            "Recall 0.51\n",
            "F1_Score 0.52\n",
            "\n",
            "\n",
            "----------------------- 10 NN -----------------------\n",
            "\n",
            "\n",
            "Accuracy 64.5 %\n",
            "[[1537.  207.  376.]\n",
            " [ 141.  197.   89.]\n",
            " [ 156.   68.  150.]]\n",
            "Precision 0.53\n",
            "Recall 0.5\n",
            "F1_Score 0.51\n",
            "\n",
            "\n"
          ],
          "name": "stdout"
        }
      ]
    },
    {
      "cell_type": "code",
      "metadata": {
        "id": "2NsKg7f8veE1",
        "outputId": "a30a641f-8da7-4a20-f449-2b7b0bcc8d7c",
        "colab": {
          "base_uri": "https://localhost:8080/",
          "height": 312
        }
      },
      "source": [
        "plt.plot(values_of_k, accuracies, 'r-',label='Accuracy') # plotting t, a separately \n",
        "plt.plot(values_of_k, precision_array, 'b-', label='Precision') # plotting t, b separately \n",
        "plt.plot(values_of_k, recall_array, 'g-', label='Recall') # plotting t, c separately \n",
        "plt.plot(values_of_k, f1_score_array, color = 'grey', label= 'F1 Score')\n",
        "plt.legend()\n",
        "plt.title('K vs Accuracy, Precision, Recall, F1 Score')\n",
        "plt.xlabel('K')\n",
        "plt.ylabel('Performance Measures')\n",
        "plt.show()\n",
        "print(accuracies)"
      ],
      "execution_count": 44,
      "outputs": [
        {
          "output_type": "display_data",
          "data": {
            "image/png": "[encoded data removed]",
            "text/plain": [
              "<Figure size 432x288 with 1 Axes>"
            ]
          },
          "metadata": {
            "tags": [],
            "needs_background": "light"
          }
        },
        {
          "output_type": "stream",
          "text": [
            "[0.7090037658336186, 0.670660732625813, 0.6675795960287573, 0.6446422458062308, 0.6449845943170147]\n"
          ],
          "name": "stdout"
        }
      ]
    },
    {
      "cell_type": "markdown",
      "metadata": {
        "id": "ZvNeBtRybp0o"
      },
      "source": [
        "# **PART 3 FOR PART 2**"
      ]
    },
    {
      "cell_type": "code",
      "metadata": {
        "id": "17TrfcxtbyjM",
        "outputId": "2d3213f4-01df-4541-8ae8-fd9b5debfe80",
        "colab": {
          "base_uri": "https://localhost:8080/",
          "height": 1000
        }
      },
      "source": [
        "arr = [1,3,5,7,10]\n",
        "from sklearn.neighbors import KNeighborsClassifier\n",
        "from sklearn.metrics import classification_report, confusion_matrix, accuracy_score\n",
        "for k in arr:\n",
        "\n",
        "  text_classifier_part3 = KNeighborsClassifier(n_neighbors=k)\n",
        "  text_classifier_part3.fit(train_embeddings, df_train['Sentiment'])\n",
        "  predictions_part3 = text_classifier_part3.predict(test_embeddings)\n",
        "  print('----------------------- {} NN -----------------------'.format(k))\n",
        "  print('\\n')\n",
        "  print(confusion_matrix(df_test['Sentiment'],predictions_part3))\n",
        "  print(classification_report(df_test['Sentiment'],predictions_part3))\n",
        "  print('Accuracy for {}nn'.format(k),accuracy_score(df_test['Sentiment'], predictions_part3))\n",
        "  print('\\n')"
      ],
      "execution_count": 48,
      "outputs": [
        {
          "output_type": "stream",
          "text": [
            "----------------------- 1 NN -----------------------\n",
            "\n",
            "\n",
            "[[1588  147   99]\n",
            " [ 283  232  100]\n",
            " [ 153   64  255]]\n",
            "              precision    recall  f1-score   support\n",
            "\n",
            "    negative       0.78      0.87      0.82      1834\n",
            "     neutral       0.52      0.38      0.44       615\n",
            "    positive       0.56      0.54      0.55       472\n",
            "\n",
            "    accuracy                           0.71      2921\n",
            "   macro avg       0.62      0.59      0.60      2921\n",
            "weighted avg       0.69      0.71      0.70      2921\n",
            "\n",
            "Accuracy for 1nn 0.7103731598767545\n",
            "\n",
            "\n",
            "----------------------- 3 NN -----------------------\n",
            "\n",
            "\n",
            "[[1727   72   35]\n",
            " [ 394  167   54]\n",
            " [ 191   48  233]]\n",
            "              precision    recall  f1-score   support\n",
            "\n",
            "    negative       0.75      0.94      0.83      1834\n",
            "     neutral       0.58      0.27      0.37       615\n",
            "    positive       0.72      0.49      0.59       472\n",
            "\n",
            "    accuracy                           0.73      2921\n",
            "   macro avg       0.68      0.57      0.60      2921\n",
            "weighted avg       0.71      0.73      0.70      2921\n",
            "\n",
            "Accuracy for 3nn 0.7281752824375214\n",
            "\n",
            "\n",
            "----------------------- 5 NN -----------------------\n",
            "\n",
            "\n",
            "[[1769   46   19]\n",
            " [ 417  154   44]\n",
            " [ 207   35  230]]\n",
            "              precision    recall  f1-score   support\n",
            "\n",
            "    negative       0.74      0.96      0.84      1834\n",
            "     neutral       0.66      0.25      0.36       615\n",
            "    positive       0.78      0.49      0.60       472\n",
            "\n",
            "    accuracy                           0.74      2921\n",
            "   macro avg       0.73      0.57      0.60      2921\n",
            "weighted avg       0.73      0.74      0.70      2921\n",
            "\n",
            "Accuracy for 5nn 0.7370763437179049\n",
            "\n",
            "\n",
            "----------------------- 7 NN -----------------------\n",
            "\n",
            "\n",
            "[[1784   30   20]\n",
            " [ 432  135   48]\n",
            " [ 207   32  233]]\n",
            "              precision    recall  f1-score   support\n",
            "\n",
            "    negative       0.74      0.97      0.84      1834\n",
            "     neutral       0.69      0.22      0.33       615\n",
            "    positive       0.77      0.49      0.60       472\n",
            "\n",
            "    accuracy                           0.74      2921\n",
            "   macro avg       0.73      0.56      0.59      2921\n",
            "weighted avg       0.73      0.74      0.69      2921\n",
            "\n",
            "Accuracy for 7nn 0.7367339952071208\n",
            "\n",
            "\n",
            "----------------------- 10 NN -----------------------\n",
            "\n",
            "\n",
            "[[1796   26   12]\n",
            " [ 461  110   44]\n",
            " [ 229   21  222]]\n",
            "              precision    recall  f1-score   support\n",
            "\n",
            "    negative       0.72      0.98      0.83      1834\n",
            "     neutral       0.70      0.18      0.28       615\n",
            "    positive       0.80      0.47      0.59       472\n",
            "\n",
            "    accuracy                           0.73      2921\n",
            "   macro avg       0.74      0.54      0.57      2921\n",
            "weighted avg       0.73      0.73      0.68      2921\n",
            "\n",
            "Accuracy for 10nn 0.7285176309483054\n",
            "\n",
            "\n"
          ],
          "name": "stdout"
        }
      ]
    },
    {
      "cell_type": "code",
      "metadata": {
        "id": "QBfDGOFjcP7E",
        "outputId": "b5d0b23e-f705-444c-eadd-65664f15c36a",
        "colab": {
          "base_uri": "https://localhost:8080/",
          "height": 295
        }
      },
      "source": [
        "#plot graph for part3\n",
        "import matplotlib.pyplot as plt\n",
        "accuracies = [0.710,0.728,0.737,0.736,0.728] # ARRAY FOR ACCURACIES\n",
        "values_of_k = [1,3,5,7,10] # ARRAY FOR K VALUES\n",
        "precision_array = [0.62,0.68,0.73,0.73,0.74] # ARRAY FOR PRECISIONS FOR K VALUES\n",
        "recall_array = [0.59,0.57,0.57,0.56,0.54] # ARRAY FOR PRECISIONS FOR K VALUES\n",
        "f1_score_array = [0.60,0.60,0.60,0.59,0.57] # ARRAY FOR F1_SCORE FOR K VALUES\n",
        "plt.plot(values_of_k, accuracies, 'r-',label='Accuracy') # plotting t, a separately \n",
        "plt.plot(values_of_k, precision_array, 'b-', label='Precision') # plotting t, b separately \n",
        "plt.plot(values_of_k, recall_array, 'g-', label='Recall') # plotting t, c separately \n",
        "plt.plot(values_of_k, f1_score_array, color = 'grey', label= 'F1 Score')\n",
        "plt.legend()\n",
        "plt.title('K vs Accuracy, Precision, Recall, F1 Score')\n",
        "plt.xlabel('K')\n",
        "plt.ylabel('Performance Measures')\n",
        "plt.show()"
      ],
      "execution_count": 47,
      "outputs": [
        {
          "output_type": "display_data",
          "data": {
            "image/png": "[encoded data removed]",
            "text/plain": [
              "<Figure size 432x288 with 1 Axes>"
            ]
          },
          "metadata": {
            "tags": [],
            "needs_background": "light"
          }
        }
      ]
    },
    {
      "cell_type": "code",
      "metadata": {
        "id": "SbcwgWrScViq"
      },
      "source": [
        ""
      ],
      "execution_count": null,
      "outputs": []
    }
  ]
}